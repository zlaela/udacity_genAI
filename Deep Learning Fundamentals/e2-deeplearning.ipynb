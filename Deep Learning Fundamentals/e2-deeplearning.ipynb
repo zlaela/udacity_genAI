{
 "cells": [
  {
   "cell_type": "markdown",
   "metadata": {},
   "source": [
    "\n",
    "Exercise: Classification of Handwritten Digits using an MLP\n",
    "- The MNIST dataset consists of 28x28 grayscale images of handwritten digits (0-9). The task is to classify each image into one of the 10 classes.\n",
    "- The dataset is named `mnist_784`, which means that the miages have 784 pixels.\n",
    "- The pixel values of the images are scaled to normlalize the range of pixels values to 0-1."
   ]
  },
  {
   "cell_type": "code",
   "execution_count": null,
   "metadata": {},
   "outputs": [],
   "source": [
    "import matplotlib.pyplot as plt\n",
    "import numpy as np\n",
    "from sklearn.datasets import fetch_openml\n",
    "\n",
    "# Load the data into 2 variables X, y\n",
    "X, y = fetch_openml('mnist_784', version=1, return_X_y=True, parser = 'auto')\n",
    "\n",
    "# SPlit into training and test data \n",
    "X_train, X_test = X[:60000], X[60000:]\n",
    "y_train, y_test = y[:60000], y[60000:]\n",
    "\n",
    "print(f\"training set size: {len(X_train)}\")\n",
    "print(f\"Test set size: {len(X_test)}\")\n",
    "\n",
    "# Conver to numy arrays and scale for the model\n",
    "X_train = np.array(X_train) / 255\n",
    "X_test = np.array(X_test) / 255\n",
    "y_train = np.array(y_train, dtype=np.int8)\n",
    "y_test = np.array(y_test, dtype=np.int8)\n",
    "\n",
    "# Show the first 3 images\n",
    "plt.figure(figsize=(20, 4))\n",
    "# Loop through the first 3 training images and their corresponding labels\n",
    "for index, (image, label) in enumerate(zip(X_train[0:3], y_train[0:3])):\n",
    "    # Create a subplot in a 1x3 grid at position index+1 (1, 2, or 3)\n",
    "    plt.subplot(1, 3, index+1)\n",
    "    # Reshape the 1D image array (784 pixels) to 2D (28x28) and display as grayscale\n",
    "    plt.imshow(np.reshape(image,(28,28)), cmap=plt.cm.gray)\n",
    "    # Set the title to show the actual digit label with large font\n",
    "    plt.title(\"Label: %s\\n\" % label, fontsize=20) \n"
   ]
  },
  {
   "cell_type": "code",
   "execution_count": null,
   "metadata": {},
   "outputs": [],
   "source": [
    "# Train an MLP classifier using sklearn.neural_network.MLPClassifier\n",
    "\n",
    "from sklearn.neural_network import MLPClassifier\n",
    "\n",
    "# Create an MLPClassifier object\n",
    "mlp = MLPClassifier(\n",
    "    hidden_layer_sizes=(50,), # 50 neurons in the layer\n",
    "    max_iter=10, # run 10 iterations\n",
    "    alpha=1e-4, # regularization parameter\n",
    "    solver='sgd', # stochastic gradient descent\n",
    "    verbose=10, # print progress every 10 iterations\n",
    "    random_state=1, # random seed for reproducibility\n",
    "    learning_rate_init=0.1, # learning rate\n",
    ")\n",
    "\n",
    "# Train the MLPClassifier\n",
    "mlp.fit(X_train, y_train)"
   ]
  },
  {
   "cell_type": "code",
   "execution_count": null,
   "metadata": {},
   "outputs": [],
   "source": [
    "# Show the accuracy o the training and test data sets\n",
    "print(f\"Training set score: {mlp.score(X_train, y_train)}\")\n",
    "print(f\"Test set score: {mlp.score(X_test, y_test)}\")"
   ]
  },
  {
   "cell_type": "code",
   "execution_count": null,
   "metadata": {},
   "outputs": [],
   "source": [
    "# Show the images, predictions, and original labels for  10 images\n",
    "\n",
    "#Get the predictions for the test dataset\n",
    "predictions = mlp.predict(X_test)\n",
    "\n",
    "# Show the predictions in a grid\n",
    "plt.figure(figsize=(8,4))\n",
    "\n",
    "for index, (image, prediction, label) in enumerate(\n",
    "    # zip() pairs up corresponding elements from multiple lists/arrays ex: (image_<index>, prediction_<index>, actual_label_<index>)...\n",
    "    zip(X_test[0:10], predictions[0:10], y_test[0:10])\n",
    "):\n",
    "    plt.subplot(2, 5, index +1)\n",
    "    plt.imshow(np.reshape(image, (28,28)), cmap=plt.cm.gray)\n",
    "\n",
    "    # Green if correct, red if incorrect\n",
    "    fontcolor = \"g\" if prediction == label else \"r\"\n",
    "    plt.title(\n",
    "        \"Prediction: %i\\n Label: %i\" % (prediction, label), fontsize=10, color=fontcolor\n",
    "    )\n",
    "    plt.axis(\"Off\") # hide axes"
   ]
  }
 ],
 "metadata": {
  "kernelspec": {
   "display_name": ".venv",
   "language": "python",
   "name": "python3"
  },
  "language_info": {
   "codemirror_mode": {
    "name": "ipython",
    "version": 3
   },
   "file_extension": ".py",
   "mimetype": "text/x-python",
   "name": "python",
   "nbconvert_exporter": "python",
   "pygments_lexer": "ipython3",
   "version": "3.9.6"
  }
 },
 "nbformat": 4,
 "nbformat_minor": 2
}
