{
 "cells": [
  {
   "cell_type": "markdown",
   "id": "0",
   "metadata": {},
   "source": [
    "# Use a foundation model to build a spam email classifier\n",
    "A foundatio model serves as a fundamental building block for potentially enedless applications. One is the ddevelopment of a spam email classifier using only the prompt. By leveraging the capabilities of a foundatio model, this project aims to accurately identify and filter out unwanted emails.\n",
    "\n",
    "Tasks:\n",
    "1. Identify and gather relevant data\n",
    "2. Build and evaluate the spam email classifier\n",
    "3. Build an improved classifier?"
   ]
  },
  {
   "cell_type": "markdown",
   "id": "1",
   "metadata": {},
   "source": [
    "# Step 1: Identify and gather relevant data\n",
    "To train and test the spam email classifier, you will need a dataset of emails that are labeled as spam or not. It's important to identify and gather a suitable dataset that represents a wide range of spam and non-spam emails"
   ]
  },
  {
   "cell_type": "code",
   "execution_count": null,
   "id": "2",
   "metadata": {},
   "outputs": [],
   "source": [
    "# find a spam dataset from huggingface at https://huggingface.co/datasets and load it using the datasets library\n",
    "\n",
    "from datasets import load_dataset\n",
    "\n",
    "dataset = load_dataset(\"sms_spam\", split=[\"train\"])[0]\n",
    "\n",
    "for entry in dataset.select(range(3)):\n",
    "    sms = entry[\"sms\"]\n",
    "    label = entry[\"label\"]\n",
    "    print(f\"label={label}, sms={sms}\")"
   ]
  },
  {
   "cell_type": "markdown",
   "id": "3",
   "metadata": {},
   "source": [
    "Create functions to convert numerical label IDs to labels"
   ]
  },
  {
   "cell_type": "code",
   "execution_count": null,
   "id": "4",
   "metadata": {},
   "outputs": [],
   "source": [
    "# Dictionaries to convert between labels and IDs\n",
    "id2label = {0: \"NOT SPAM\", 1: \"SPAM\"}\n",
    "lable2id={\"NOT SPAM\": 0, \"SPAM\": 1}\n",
    "\n",
    "for entry in dataset.select(range(3)):\n",
    "    sms = entry[\"sms\"]\n",
    "    label = entry[\"label\"]\n",
    "    print(f\"label={id2label[label]}, sms={sms}\")"
   ]
  },
  {
   "cell_type": "markdown",
   "id": "5",
   "metadata": {},
   "source": [
    "# Step 2: Build and evaluate the spam email classifier\n",
    "Using the foundation model and the prepared dataset, you can create a spam email classifier\n",
    "Write a prompt that will ask the model to classify 15 messgaes as either \"spam\" or \"not spam\". For easier parsing, we can ask the LLM to respond in JSON."
   ]
  },
  {
   "cell_type": "code",
   "execution_count": null,
   "id": "6",
   "metadata": {},
   "outputs": [],
   "source": [
    "# Start with a helper function to format SMS messages for the LLM\n",
    "\n",
    "def get_sms_messages_string(dataset, item_numbers, include_labels =False): #include_lables toggles whether the output includes the spam/not spam label\n",
    "    sms_message_string = \"\"\n",
    "    for item_number, entry in zip(item_numbers, dataset.select(item_numbers)):\n",
    "        sms = entry[\"sms\"]\n",
    "        label_id = entry[\"label\"]\n",
    "\n",
    "        if include_labels:\n",
    "            sms_message_string += (\n",
    "                f\"{item_number} (label={id2label[label_id]}) -> {sms}\\n\"\n",
    "            )\n",
    "        else:\n",
    "            sms_message_string += f\"{item_number} -> {sms}\\n\"\n",
    "    return sms_message_string\n",
    "\n",
    "print(get_sms_messages_string(dataset, range(3), include_labels=True))"
   ]
  },
  {
   "cell_type": "markdown",
   "id": "7",
   "metadata": {},
   "source": [
    "Now write code that will produce the prompt. The prompt should include a few SMS messages to be labeled as well as instructions for the LLM.\n",
    "\n",
    "Some LLMs will also format the output as JSON if request, e.g. \"Respond in JSON format\""
   ]
  },
  {
   "cell_type": "code",
   "execution_count": null,
   "id": "8",
   "metadata": {},
   "outputs": [],
   "source": [
    "data_range = range(7,15)\n",
    "\n",
    "# Get a few messages and format them as a string\n",
    "sms_messages_string = get_sms_messages_string(dataset, data_range) # By default, include_labels is False\n",
    "\n",
    "# Construct a query to send to the LLM including the sms messages.\n",
    "# Ask that it respons in JSON format\n",
    "\n",
    "query =f\"\"\"\n",
    "Look at the following messages and determine whether they are spam or not. Respond in JSON format using the following format{{\"0\": NOT SPAM\", \"1\", \"SPAM\"}}. \n",
    "\\nMessages:\\n\n",
    "{sms_messages_string}\n",
    "\"\"\"\n",
    "print(query)"
   ]
  },
  {
   "cell_type": "code",
   "execution_count": null,
   "id": "9",
   "metadata": {},
   "outputs": [],
   "source": [
    "# Use the above prompt in an LLM to get a response\n",
    "\n",
    "# Accurate predictions\n",
    "# response = {\n",
    "#   \"7\": \"NOT SPAM\",\n",
    "#   \"8\": \"SPAM\",\n",
    "#   \"9\": \"SPAM\",\n",
    "#   \"10\": \"NOT SPAM\",\n",
    "#   \"11\": \"SPAM\",\n",
    "#   \"12\": \"SPAM\",\n",
    "#   \"13\": \"NOT SPAM\",\n",
    "#   \"14\": \"NOT SPAM\"\n",
    "# }\n",
    "\n",
    "# Less accurate predictions\n",
    "response = {\n",
    "    \"7\": \"NOT SPAM\",\n",
    "    \"8\": \"SPAM\",\n",
    "    \"9\": \"SPAM\",\n",
    "    \"10\": \"NOT SPAM\",\n",
    "    \"11\": \"SPAM\",\n",
    "    \"12\": \"SPAM\",\n",
    "    \"13\": \"NOT SPAM\",\n",
    "    \"14\": \"SPAM\",\n",
    "}\n",
    "\n",
    "# Estimate the accuracy of the classifier by comparing the response to the lables in the dataset\n",
    "def get_accuracy(response, dataset, original_indices):\n",
    "    correct =0\n",
    "    total =0\n",
    "\n",
    "    # iterate over the responses and store the entry number and prediction label in variables\n",
    "    # if the entry number is not in the range of SMS messages passed into the LLM, skip \n",
    "    for entry_number, prediction in response.items():\n",
    "        if int(entry_number) not in original_indices:\n",
    "            continue\n",
    "\n",
    "        # Get the ID from the entry's label, convert string to an integer\n",
    "        label_id=dataset[int(entry_number)][\"label\"]\n",
    "        # Get the label for the ID\n",
    "        label = id2label[label_id]\n",
    "\n",
    "        if prediction.lower() == label.lower():\n",
    "            print(f\"prediction: {prediction.lower()} || Actual: {label.lower()}\")\n",
    "            correct += 1\n",
    "        else:\n",
    "            print(f\"prediction: {prediction.lower()} || Actual: {label.lower()}\")\n",
    "\n",
    "        total += 1\n",
    "\n",
    "    try:\n",
    "        accuracy = correct/total\n",
    "    except ZeroDivisionError:\n",
    "        print(\"No matching results found!\")\n",
    "        return\n",
    "    \n",
    "    return round(accuracy, 2)\n",
    "\n",
    "print(f\"Accuracy: {get_accuracy(response, dataset, data_range)}\")"
   ]
  },
  {
   "cell_type": "markdown",
   "id": "10",
   "metadata": {},
   "source": [
    "# Step 3: Build an improved classifier?\n",
    "If you provide the LLM with some examples for how to complete a task, it will sometimes improve its performance. Let's try that"
   ]
  },
  {
   "cell_type": "code",
   "execution_count": null,
   "id": "11",
   "metadata": {},
   "outputs": [],
   "source": [
    "# Get a few labeled messages and format them as a string\n",
    "labeled_range = range(54,60)\n",
    "\n",
    "sms_messages_string_w_labels = get_sms_messages_string(dataset, labeled_range, include_labels=True)\n",
    "\n",
    "# Get a few unlabeled messages and format them as a string\n",
    "unlabeled_range = range(7,15)\n",
    "sms_message_string_no_lables = get_sms_messages_string(dataset, unlabeled_range) # include_lables is False by default\n",
    "\n",
    "# Construct a query to send to the LLM including the labeled messages as well as the unlabled.\n",
    "# AS it to respond in a JSON format\n",
    "query = f\"\"\"\n",
    "Use the labeled message samples to determine if the unlabled messages are spam or not. Respond in JSON following format{{\"0\": NOT SPAM\", \"1\", \"SPAM\"}}. \n",
    "\\nUnabeled Messages:\\n\n",
    "{sms_message_string_no_lables}\n",
    "\n",
    "\\nLabeled Messages:\\n\n",
    "{sms_messages_string_w_labels}\n",
    "\"\"\"\n",
    "\n",
    "print(query)"
   ]
  },
  {
   "cell_type": "code",
   "execution_count": null,
   "id": "12",
   "metadata": {},
   "outputs": [],
   "source": [
    "# Accurate response\n",
    "# {\n",
    "#   \"7\": \"NOT SPAM\",\n",
    "#   \"8\": \"SPAM\",\n",
    "#   \"9\": \"SPAM\",\n",
    "#   \"10\": \"NOT SPAM\",\n",
    "#   \"11\": \"SPAM\",\n",
    "#   \"12\": \"SPAM\",\n",
    "#   \"13\": \"NOT SPAM\",\n",
    "#   \"14\": \"NOT SPAM\"\n",
    "# }\n",
    "\n",
    "# Less accurate response\n",
    "response = {\n",
    "  \"7\": \"SPAM\",\n",
    "  \"8\": \"SPAM\",\n",
    "  \"9\": \"SPAM\",\n",
    "  \"10\": \"NOT SPAM\",\n",
    "  \"11\": \"SPAM\",\n",
    "  \"12\": \"SPAM\",\n",
    "  \"13\": \"SPAM\",\n",
    "  \"14\": \"NOT SPAM\"\n",
    "}\n",
    "\n",
    "# Check the accuracy for the unlabeled messages\n",
    "print(f\"Accuracy: {get_accuracy(response, dataset, unlabeled_range)}\")"
   ]
  },
  {
   "cell_type": "code",
   "execution_count": null,
   "id": "13",
   "metadata": {},
   "outputs": [],
   "source": [
    "# Show the misclassified items\n",
    "def print_misclassified_messages(response, dataset):\n",
    "    for entry_number, prediction in response.items():\n",
    "        # Get the ID from the entry's label, convert string to an integer\n",
    "        label_id=dataset[int(entry_number)][\"label\"]\n",
    "        # Get the label for the ID\n",
    "        label = id2label[label_id]\n",
    "\n",
    "        if prediction.lower() != label.lower():\n",
    "            sms = dataset[int(entry_number)][\"sms\"] # get the message\n",
    "            print(f\"---\\nMessage: {sms} \\nLabel: {label} || Prediciton: {prediction}\\n---\\n\")\n",
    "\n",
    "print(print_misclassified_messages(response, dataset))"
   ]
  }
 ],
 "metadata": {
  "kernelspec": {
   "display_name": ".venv",
   "language": "python",
   "name": "python3"
  },
  "language_info": {
   "codemirror_mode": {
    "name": "ipython",
    "version": 3
   },
   "file_extension": ".py",
   "mimetype": "text/x-python",
   "name": "python",
   "nbconvert_exporter": "python",
   "pygments_lexer": "ipython3",
   "version": "3.9.6"
  }
 },
 "nbformat": 4,
 "nbformat_minor": 5
}
